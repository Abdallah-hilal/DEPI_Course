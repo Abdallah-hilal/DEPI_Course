{
 "cells": [
  {
   "cell_type": "markdown",
   "metadata": {},
   "source": [
    "## Python Task 2"
   ]
  },
  {
   "cell_type": "markdown",
   "metadata": {},
   "source": [
    "### Question: Extract and Analyze List Slices\n",
    "\n",
    "**Description:** Given a list of tuples, where each tuple contains information about a product (product name, price, and quantity), write a program that extracts the product names and prints the names of products with prices above a certain threshold using list slicing and if statements. \n",
    "\n",
    "The threshold should be set within your code."
   ]
  },
  {
   "cell_type": "code",
   "execution_count": null,
   "metadata": {},
   "outputs": [],
   "source": [
    "'''\n",
    "# Example Input:\n",
    "products = [\n",
    "    (\"Laptop\", 1200, 5),\n",
    "    (\"Smartphone\", 700, 10),\n",
    "    (\"Headphones\", 150, 15),\n",
    "    (\"Monitor\", 300, 7)\n",
    "]\n",
    "threshold = 500\n",
    "\n",
    "# Expected Output:\n",
    "Products above the price threshold: ['Laptop', 'Smartphone']\n",
    "'''"
   ]
  },
  {
   "cell_type": "code",
   "execution_count": 1,
   "metadata": {},
   "outputs": [
    {
     "data": {
      "text/plain": [
       "['Laptop', 'Smartphone']"
      ]
     },
     "execution_count": 1,
     "metadata": {},
     "output_type": "execute_result"
    }
   ],
   "source": [
    "def productnames_above_threshol(products, threshold):\n",
    "    product_names_above_threshold = [product[0] for product in products if product[1] > threshold]\n",
    "    return product_names_above_threshold\n",
    "\n",
    "products = [\n",
    "    (\"Laptop\", 1200, 5),\n",
    "    (\"Smartphone\", 700, 10),\n",
    "    (\"Headphones\", 150, 15),\n",
    "    (\"Monitor\", 300, 7)\n",
    "]\n",
    "threshold = 500\n",
    "productnames_above_threshol(products , threshold)"
   ]
  },
  {
   "cell_type": "markdown",
   "metadata": {},
   "source": [
    "### Question: Update Dictionary with Tuple Data\n",
    "Description: You have a dictionary where keys are employee IDs and values are their current salaries. You also have a list of tuples where each tuple contains an employee ID and a percentage increment to their salary. Write code to update the salaries in the dictionary based on the increment provided in the list of tuples. \n",
    "\n",
    "Use if statements to ensure that only existing employees in the dictionary are updated."
   ]
  },
  {
   "cell_type": "code",
   "execution_count": null,
   "metadata": {},
   "outputs": [],
   "source": [
    "'''\n",
    "# Example Input:\n",
    "salaries = {\n",
    "    101: 50000,\n",
    "    102: 60000,\n",
    "    103: 55000\n",
    "}\n",
    "increments = [\n",
    "    (101, 10),  # 10% increment\n",
    "    (104, 5),   # 5% increment, not in salaries\n",
    "    (102, 15)\n",
    "]\n",
    "\n",
    "# Expected Output:\n",
    "Updated salaries: {101: 55000, 102: 69000, 103: 55000}\n",
    "'''\n",
    "\n"
   ]
  },
  {
   "cell_type": "code",
   "execution_count": 17,
   "metadata": {},
   "outputs": [],
   "source": [
    "def increments_salaries(salaries , increments): \n",
    "    for key,increment in increments:\n",
    "        if key in salaries.keys():\n",
    "            salaries[key] = salaries[key] + (salaries[key] * (increment / 100))\n",
    "    return salaries"
   ]
  },
  {
   "cell_type": "code",
   "execution_count": 18,
   "metadata": {},
   "outputs": [
    {
     "data": {
      "text/plain": [
       "{101: 55000.0, 102: 69000.0, 103: 55000}"
      ]
     },
     "execution_count": 18,
     "metadata": {},
     "output_type": "execute_result"
    }
   ],
   "source": [
    "salaries = {\n",
    "    101: 50000,\n",
    "    102: 60000,\n",
    "    103: 55000\n",
    "}\n",
    "increments = [\n",
    "    (101, 10),  # 10% increment\n",
    "    (104, 5),   # 5% increment, not in salaries\n",
    "    (102, 15)\n",
    "]\n",
    "new_salaries = increments_salaries(salaries, increments)\n",
    "new_salaries"
   ]
  },
  {
   "cell_type": "code",
   "execution_count": null,
   "metadata": {},
   "outputs": [],
   "source": []
  },
  {
   "cell_type": "code",
   "execution_count": null,
   "metadata": {},
   "outputs": [],
   "source": []
  }
 ],
 "metadata": {
  "kernelspec": {
   "display_name": "depi_env",
   "language": "python",
   "name": "python3"
  },
  "language_info": {
   "codemirror_mode": {
    "name": "ipython",
    "version": 3
   },
   "file_extension": ".py",
   "mimetype": "text/x-python",
   "name": "python",
   "nbconvert_exporter": "python",
   "pygments_lexer": "ipython3",
   "version": "3.10.15"
  }
 },
 "nbformat": 4,
 "nbformat_minor": 2
}
